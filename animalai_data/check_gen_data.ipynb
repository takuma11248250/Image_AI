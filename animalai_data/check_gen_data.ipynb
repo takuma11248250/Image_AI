{
 "cells": [
  {
   "cell_type": "code",
   "execution_count": 9,
   "metadata": {},
   "outputs": [],
   "source": [
    "from PIL import Image\n",
    "import os, glob\n",
    "import numpy as np\n",
    "from sklearn import model_selection\n",
    "\n",
    "classes = ['monkey', 'boar', 'crow']\n",
    "num_classes = len(classes)\n",
    "image_size = 50\n",
    "\n",
    "#画像読み込み\n",
    "X = []\n",
    "Y = []\n",
    "for index, classlabel in enumerate(classes):\n",
    "\tphotos_dir = './' + classlabel\n",
    "\tfiles = glob.glob(photos_dir + '/*.jpg')\n",
    "\tfor i, file in enumerate(files):\n",
    "\t\tif i >= 200: break\n",
    "\t\timage = Image.open(file)\n",
    "\t\timage = image.convert('RGB')\n",
    "\t\timage = image.resize((image_size, image_size))\n",
    "\t\tdata = np.asarray(image)\n",
    "\t\tX.append(data)\n",
    "\t\tY.append(index)\n",
    "\n",
    "X = np.array(X)\n",
    "Y = np.array(Y)\n",
    "\n",
    "X_train, X_test, y_train, y_test = model_selection.train_test_split(X,Y)\n",
    "xy = (X_train, X_test, y_train, y_test)\n",
    "np.save('./animal.npy', xy)"
   ]
  },
  {
   "cell_type": "code",
   "execution_count": 10,
   "metadata": {},
   "outputs": [
    {
     "data": {
      "text/plain": [
       "450"
      ]
     },
     "execution_count": 10,
     "metadata": {},
     "output_type": "execute_result"
    }
   ],
   "source": [
    "len(X_train)"
   ]
  },
  {
   "cell_type": "code",
   "execution_count": 11,
   "metadata": {},
   "outputs": [
    {
     "data": {
      "text/plain": [
       "150"
      ]
     },
     "execution_count": 11,
     "metadata": {},
     "output_type": "execute_result"
    }
   ],
   "source": [
    "len(X_test)"
   ]
  },
  {
   "cell_type": "code",
   "execution_count": 12,
   "metadata": {},
   "outputs": [
    {
     "data": {
      "text/plain": [
       "450"
      ]
     },
     "execution_count": 12,
     "metadata": {},
     "output_type": "execute_result"
    }
   ],
   "source": [
    "len(y_train)"
   ]
  },
  {
   "cell_type": "code",
   "execution_count": 13,
   "metadata": {},
   "outputs": [
    {
     "data": {
      "text/plain": [
       "150"
      ]
     },
     "execution_count": 13,
     "metadata": {},
     "output_type": "execute_result"
    }
   ],
   "source": [
    "len(y_test)"
   ]
  },
  {
   "cell_type": "code",
   "execution_count": 14,
   "metadata": {},
   "outputs": [
    {
     "data": {
      "text/plain": [
       "array([[[100, 128,  71],\n",
       "        [105, 136,  76],\n",
       "        [ 81, 117,  54],\n",
       "        ...,\n",
       "        [ 99, 123,  82],\n",
       "        [102, 122,  76],\n",
       "        [114, 133,  84]],\n",
       "\n",
       "       [[112, 141,  84],\n",
       "        [106, 137,  77],\n",
       "        [111, 143,  83],\n",
       "        ...,\n",
       "        [ 78, 102,  51],\n",
       "        [ 65, 104,  49],\n",
       "        [ 90, 129,  70]],\n",
       "\n",
       "       [[117, 148,  82],\n",
       "        [108, 139,  73],\n",
       "        [110, 141,  76],\n",
       "        ...,\n",
       "        [ 78,  99,  47],\n",
       "        [ 68, 106,  50],\n",
       "        [ 89, 128,  70]],\n",
       "\n",
       "       ...,\n",
       "\n",
       "       [[ 80,  97,  52],\n",
       "        [ 73, 101,  46],\n",
       "        [ 68, 102,  41],\n",
       "        ...,\n",
       "        [ 53,  71,  31],\n",
       "        [ 67,  81,  42],\n",
       "        [ 85,  96,  59]],\n",
       "\n",
       "       [[ 75,  95,  51],\n",
       "        [ 83, 117,  55],\n",
       "        [ 84, 110,  62],\n",
       "        ...,\n",
       "        [ 68,  89,  46],\n",
       "        [ 65,  90,  42],\n",
       "        [ 71,  85,  43]],\n",
       "\n",
       "       [[ 76,  98,  55],\n",
       "        [ 85, 119,  60],\n",
       "        [ 73,  99,  53],\n",
       "        ...,\n",
       "        [ 63,  81,  38],\n",
       "        [ 63,  88,  42],\n",
       "        [ 62,  84,  40]]], dtype=uint8)"
      ]
     },
     "execution_count": 14,
     "metadata": {},
     "output_type": "execute_result"
    }
   ],
   "source": [
    "X_train[100]"
   ]
  },
  {
   "cell_type": "code",
   "execution_count": 15,
   "metadata": {},
   "outputs": [
    {
     "data": {
      "text/plain": [
       "0"
      ]
     },
     "execution_count": 15,
     "metadata": {},
     "output_type": "execute_result"
    }
   ],
   "source": [
    "y_train[100]"
   ]
  },
  {
   "cell_type": "code",
   "execution_count": null,
   "metadata": {},
   "outputs": [],
   "source": []
  }
 ],
 "metadata": {
  "kernelspec": {
   "display_name": "Python 3",
   "language": "python",
   "name": "python3"
  },
  "language_info": {
   "codemirror_mode": {
    "name": "ipython",
    "version": 3
   },
   "file_extension": ".py",
   "mimetype": "text/x-python",
   "name": "python",
   "nbconvert_exporter": "python",
   "pygments_lexer": "ipython3",
   "version": "3.8.5"
  }
 },
 "nbformat": 4,
 "nbformat_minor": 4
}
